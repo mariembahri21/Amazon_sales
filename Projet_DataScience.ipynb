{
 "cells": [
  {
   "cell_type": "markdown",
   "metadata": {},
   "source": [
    "<h1>Sujet de Projet : Analyse Prédictive des Ventes pour une entreprise du commerce électronique: <h5>AMAZON</h5></h1>\n"
   ]
  },
  {
   "cell_type": "markdown",
   "metadata": {},
   "source": [
    "<h3>Contexte</h3>\n",
    "Dans le monde du commerce électronique, la capacité à prédire les ventes futures est cruciale pour les entreprises comme Amazon. Une prédiction précise permet non seulement d'optimiser la gestion des stocks et des chaînes d'approvisionnement, mais aussi d'améliorer les campagnes marketing et de maximiser les revenus. Cependant, prévoir les ventes de manière fiable est un défi en raison des multiples facteurs qui influencent les comportements d'achat des consommateurs, tels que les tendances saisonnières, les promotions, les événements spécifiques, et les dynamiques économiques globales."
   ]
  },
  {
   "cell_type": "markdown",
   "metadata": {},
   "source": [
    "<h3>Objectif du Projet</h3>\n",
    "Ce projet a pour but de développer un modèle de machine learning capable de prédire les ventes mensuelles de produits sur Amazon. En utilisant des données historiques des ventes, le modèle permettra à l'entreprise de prendre des décisions éclairées concernant les stocks, les promotions, et la stratégie marketing."
   ]
  },
  {
   "cell_type": "markdown",
   "metadata": {},
   "source": [
    "<h3>Description du Dataset</h3>\n",
    "Le dataset utilisé dans ce projet provient des ventes d'Amazon, un géant du commerce électronique. Il contient des informations détaillées sur les produits vendus, incluant les catégories, les prix, les dates de vente, et les volumes de vente. Ces données seront explorées et analysées pour identifier les tendances et les facteurs clés qui influencent les ventes, avant d'être utilisées pour entraîner et tester différents modèles prédictifs."
   ]
  },
  {
   "cell_type": "markdown",
   "metadata": {},
   "source": [
    "<h3>Exploration et Préparation des Données :</h3> Une exploration approfondie des données sera menée pour comprendre leur structure et leur contenu. Cette étape inclura également le nettoyage des données et la création de nouvelles caractéristiques pertinentes (feature engineering)."
   ]
  },
  {
   "cell_type": "markdown",
   "metadata": {},
   "source": [
    "1) Exploration des Données"
   ]
  },
  {
   "cell_type": "code",
   "execution_count": 312,
   "metadata": {},
   "outputs": [
    {
     "data": {
      "text/html": [
       "<div>\n",
       "<style scoped>\n",
       "    .dataframe tbody tr th:only-of-type {\n",
       "        vertical-align: middle;\n",
       "    }\n",
       "\n",
       "    .dataframe tbody tr th {\n",
       "        vertical-align: top;\n",
       "    }\n",
       "\n",
       "    .dataframe thead th {\n",
       "        text-align: right;\n",
       "    }\n",
       "</style>\n",
       "<table border=\"1\" class=\"dataframe\">\n",
       "  <thead>\n",
       "    <tr style=\"text-align: right;\">\n",
       "      <th></th>\n",
       "      <th>product_id</th>\n",
       "      <th>product_name</th>\n",
       "      <th>category</th>\n",
       "      <th>discounted_price</th>\n",
       "      <th>actual_price</th>\n",
       "      <th>discount_percentage</th>\n",
       "      <th>rating</th>\n",
       "      <th>rating_count</th>\n",
       "      <th>about_product</th>\n",
       "      <th>user_id</th>\n",
       "      <th>user_name</th>\n",
       "      <th>review_id</th>\n",
       "      <th>review_title</th>\n",
       "      <th>review_content</th>\n",
       "      <th>img_link</th>\n",
       "      <th>product_link</th>\n",
       "    </tr>\n",
       "  </thead>\n",
       "  <tbody>\n",
       "    <tr>\n",
       "      <th>0</th>\n",
       "      <td>B07JW9H4J1</td>\n",
       "      <td>Wayona Nylon Braided USB to Lightning Fast Cha...</td>\n",
       "      <td>Computers&amp;Accessories|Accessories&amp;Peripherals|...</td>\n",
       "      <td>₹399</td>\n",
       "      <td>₹1,099</td>\n",
       "      <td>64%</td>\n",
       "      <td>4.2</td>\n",
       "      <td>24,269</td>\n",
       "      <td>High Compatibility : Compatible With iPhone 12...</td>\n",
       "      <td>AG3D6O4STAQKAY2UVGEUV46KN35Q,AHMY5CWJMMK5BJRBB...</td>\n",
       "      <td>Manav,Adarsh gupta,Sundeep,S.Sayeed Ahmed,jasp...</td>\n",
       "      <td>R3HXWT0LRP0NMF,R2AJM3LFTLZHFO,R6AQJGUP6P86,R1K...</td>\n",
       "      <td>Satisfied,Charging is really fast,Value for mo...</td>\n",
       "      <td>Looks durable Charging is fine tooNo complains...</td>\n",
       "      <td>https://m.media-amazon.com/images/W/WEBP_40237...</td>\n",
       "      <td>https://www.amazon.in/Wayona-Braided-WN3LG1-Sy...</td>\n",
       "    </tr>\n",
       "    <tr>\n",
       "      <th>1</th>\n",
       "      <td>B098NS6PVG</td>\n",
       "      <td>Ambrane Unbreakable 60W / 3A Fast Charging 1.5...</td>\n",
       "      <td>Computers&amp;Accessories|Accessories&amp;Peripherals|...</td>\n",
       "      <td>₹199</td>\n",
       "      <td>₹349</td>\n",
       "      <td>43%</td>\n",
       "      <td>4.0</td>\n",
       "      <td>43,994</td>\n",
       "      <td>Compatible with all Type C enabled devices, be...</td>\n",
       "      <td>AECPFYFQVRUWC3KGNLJIOREFP5LQ,AGYYVPDD7YG7FYNBX...</td>\n",
       "      <td>ArdKn,Nirbhay kumar,Sagar Viswanathan,Asp,Plac...</td>\n",
       "      <td>RGIQEG07R9HS2,R1SMWZQ86XIN8U,R2J3Y1WL29GWDE,RY...</td>\n",
       "      <td>A Good Braided Cable for Your Type C Device,Go...</td>\n",
       "      <td>I ordered this cable to connect my phone to An...</td>\n",
       "      <td>https://m.media-amazon.com/images/W/WEBP_40237...</td>\n",
       "      <td>https://www.amazon.in/Ambrane-Unbreakable-Char...</td>\n",
       "    </tr>\n",
       "    <tr>\n",
       "      <th>2</th>\n",
       "      <td>B096MSW6CT</td>\n",
       "      <td>Sounce Fast Phone Charging Cable &amp; Data Sync U...</td>\n",
       "      <td>Computers&amp;Accessories|Accessories&amp;Peripherals|...</td>\n",
       "      <td>₹199</td>\n",
       "      <td>₹1,899</td>\n",
       "      <td>90%</td>\n",
       "      <td>3.9</td>\n",
       "      <td>7,928</td>\n",
       "      <td>【 Fast Charger&amp; Data Sync】-With built-in safet...</td>\n",
       "      <td>AGU3BBQ2V2DDAMOAKGFAWDDQ6QHA,AESFLDV2PT363T2AQ...</td>\n",
       "      <td>Kunal,Himanshu,viswanath,sai niharka,saqib mal...</td>\n",
       "      <td>R3J3EQQ9TZI5ZJ,R3E7WBGK7ID0KV,RWU79XKQ6I1QF,R2...</td>\n",
       "      <td>Good speed for earlier versions,Good Product,W...</td>\n",
       "      <td>Not quite durable and sturdy,https://m.media-a...</td>\n",
       "      <td>https://m.media-amazon.com/images/W/WEBP_40237...</td>\n",
       "      <td>https://www.amazon.in/Sounce-iPhone-Charging-C...</td>\n",
       "    </tr>\n",
       "    <tr>\n",
       "      <th>3</th>\n",
       "      <td>B08HDJ86NZ</td>\n",
       "      <td>boAt Deuce USB 300 2 in 1 Type-C &amp; Micro USB S...</td>\n",
       "      <td>Computers&amp;Accessories|Accessories&amp;Peripherals|...</td>\n",
       "      <td>₹329</td>\n",
       "      <td>₹699</td>\n",
       "      <td>53%</td>\n",
       "      <td>4.2</td>\n",
       "      <td>94,363</td>\n",
       "      <td>The boAt Deuce USB 300 2 in 1 cable is compati...</td>\n",
       "      <td>AEWAZDZZJLQUYVOVGBEUKSLXHQ5A,AG5HTSFRRE6NL3M5S...</td>\n",
       "      <td>Omkar dhale,JD,HEMALATHA,Ajwadh a.,amar singh ...</td>\n",
       "      <td>R3EEUZKKK9J36I,R3HJVYCLYOY554,REDECAZ7AMPQC,R1...</td>\n",
       "      <td>Good product,Good one,Nice,Really nice product...</td>\n",
       "      <td>Good product,long wire,Charges good,Nice,I bou...</td>\n",
       "      <td>https://m.media-amazon.com/images/I/41V5FtEWPk...</td>\n",
       "      <td>https://www.amazon.in/Deuce-300-Resistant-Tang...</td>\n",
       "    </tr>\n",
       "    <tr>\n",
       "      <th>4</th>\n",
       "      <td>B08CF3B7N1</td>\n",
       "      <td>Portronics Konnect L 1.2M Fast Charging 3A 8 P...</td>\n",
       "      <td>Computers&amp;Accessories|Accessories&amp;Peripherals|...</td>\n",
       "      <td>₹154</td>\n",
       "      <td>₹399</td>\n",
       "      <td>61%</td>\n",
       "      <td>4.2</td>\n",
       "      <td>16,905</td>\n",
       "      <td>[CHARGE &amp; SYNC FUNCTION]- This cable comes wit...</td>\n",
       "      <td>AE3Q6KSUK5P75D5HFYHCRAOLODSA,AFUGIFH5ZAFXRDSZH...</td>\n",
       "      <td>rahuls6099,Swasat Borah,Ajay Wadke,Pranali,RVK...</td>\n",
       "      <td>R1BP4L2HH9TFUP,R16PVJEXKV6QZS,R2UPDB81N66T4P,R...</td>\n",
       "      <td>As good as original,Decent,Good one for second...</td>\n",
       "      <td>Bought this instead of original apple, does th...</td>\n",
       "      <td>https://m.media-amazon.com/images/W/WEBP_40237...</td>\n",
       "      <td>https://www.amazon.in/Portronics-Konnect-POR-1...</td>\n",
       "    </tr>\n",
       "  </tbody>\n",
       "</table>\n",
       "</div>"
      ],
      "text/plain": [
       "   product_id                                       product_name                                           category discounted_price actual_price discount_percentage rating rating_count                                      about_product                                            user_id                                          user_name                                          review_id                                       review_title                                     review_content                                           img_link                                       product_link\n",
       "0  B07JW9H4J1  Wayona Nylon Braided USB to Lightning Fast Cha...  Computers&Accessories|Accessories&Peripherals|...             ₹399       ₹1,099                 64%    4.2       24,269  High Compatibility : Compatible With iPhone 12...  AG3D6O4STAQKAY2UVGEUV46KN35Q,AHMY5CWJMMK5BJRBB...  Manav,Adarsh gupta,Sundeep,S.Sayeed Ahmed,jasp...  R3HXWT0LRP0NMF,R2AJM3LFTLZHFO,R6AQJGUP6P86,R1K...  Satisfied,Charging is really fast,Value for mo...  Looks durable Charging is fine tooNo complains...  https://m.media-amazon.com/images/W/WEBP_40237...  https://www.amazon.in/Wayona-Braided-WN3LG1-Sy...\n",
       "1  B098NS6PVG  Ambrane Unbreakable 60W / 3A Fast Charging 1.5...  Computers&Accessories|Accessories&Peripherals|...             ₹199         ₹349                 43%    4.0       43,994  Compatible with all Type C enabled devices, be...  AECPFYFQVRUWC3KGNLJIOREFP5LQ,AGYYVPDD7YG7FYNBX...  ArdKn,Nirbhay kumar,Sagar Viswanathan,Asp,Plac...  RGIQEG07R9HS2,R1SMWZQ86XIN8U,R2J3Y1WL29GWDE,RY...  A Good Braided Cable for Your Type C Device,Go...  I ordered this cable to connect my phone to An...  https://m.media-amazon.com/images/W/WEBP_40237...  https://www.amazon.in/Ambrane-Unbreakable-Char...\n",
       "2  B096MSW6CT  Sounce Fast Phone Charging Cable & Data Sync U...  Computers&Accessories|Accessories&Peripherals|...             ₹199       ₹1,899                 90%    3.9        7,928  【 Fast Charger& Data Sync】-With built-in safet...  AGU3BBQ2V2DDAMOAKGFAWDDQ6QHA,AESFLDV2PT363T2AQ...  Kunal,Himanshu,viswanath,sai niharka,saqib mal...  R3J3EQQ9TZI5ZJ,R3E7WBGK7ID0KV,RWU79XKQ6I1QF,R2...  Good speed for earlier versions,Good Product,W...  Not quite durable and sturdy,https://m.media-a...  https://m.media-amazon.com/images/W/WEBP_40237...  https://www.amazon.in/Sounce-iPhone-Charging-C...\n",
       "3  B08HDJ86NZ  boAt Deuce USB 300 2 in 1 Type-C & Micro USB S...  Computers&Accessories|Accessories&Peripherals|...             ₹329         ₹699                 53%    4.2       94,363  The boAt Deuce USB 300 2 in 1 cable is compati...  AEWAZDZZJLQUYVOVGBEUKSLXHQ5A,AG5HTSFRRE6NL3M5S...  Omkar dhale,JD,HEMALATHA,Ajwadh a.,amar singh ...  R3EEUZKKK9J36I,R3HJVYCLYOY554,REDECAZ7AMPQC,R1...  Good product,Good one,Nice,Really nice product...  Good product,long wire,Charges good,Nice,I bou...  https://m.media-amazon.com/images/I/41V5FtEWPk...  https://www.amazon.in/Deuce-300-Resistant-Tang...\n",
       "4  B08CF3B7N1  Portronics Konnect L 1.2M Fast Charging 3A 8 P...  Computers&Accessories|Accessories&Peripherals|...             ₹154         ₹399                 61%    4.2       16,905  [CHARGE & SYNC FUNCTION]- This cable comes wit...  AE3Q6KSUK5P75D5HFYHCRAOLODSA,AFUGIFH5ZAFXRDSZH...  rahuls6099,Swasat Borah,Ajay Wadke,Pranali,RVK...  R1BP4L2HH9TFUP,R16PVJEXKV6QZS,R2UPDB81N66T4P,R...  As good as original,Decent,Good one for second...  Bought this instead of original apple, does th...  https://m.media-amazon.com/images/W/WEBP_40237...  https://www.amazon.in/Portronics-Konnect-POR-1..."
      ]
     },
     "execution_count": 312,
     "metadata": {},
     "output_type": "execute_result"
    }
   ],
   "source": [
    "import pandas as pd\n",
    "\n",
    "file=pd.read_csv(\"amazon.csv\")\n",
    "df=pd.DataFrame(file)\n",
    "df.head()\n"
   ]
  },
  {
   "cell_type": "code",
   "execution_count": 313,
   "metadata": {},
   "outputs": [
    {
     "name": "stdout",
     "output_type": "stream",
     "text": [
      "        product_id                                       product_name                                           category discounted_price actual_price discount_percentage rating rating_count                                      about_product                                            user_id                                          user_name                                          review_id                                       review_title                                     review_content                                           img_link                                       product_link\n",
      "count         1465                                               1465                                               1465             1465         1465                1465   1465         1463                                               1465                                               1465                                               1465                                               1465                                               1465                                               1465                                               1465                                               1465\n",
      "unique        1351                                               1337                                                211              550          449                  92     28         1143                                               1293                                               1194                                               1194                                               1194                                               1194                                               1212                                               1412                                               1465\n",
      "top     B07JW9H4J1  Fire-Boltt Ninja Call Pro Plus 1.83\" Smart Wat...  Computers&Accessories|Accessories&Peripherals|...             ₹199         ₹999                 50%    4.1        9,378  [CHARGE & SYNC FUNCTION]- This cable comes wit...  AHIKJUDTVJ4T6DV6IUGFYZ5LXMPA,AE55KTFVNXYFD5FPY...  $@|\\|TO$|-|,Sethu madhav,Akash Thakur,Burger P...  R3F4T5TRYPTMIG,R3DQIEC603E7AY,R1O4Z15FD40PV5,R...  Worked on iPhone 7 and didn’t work on XR,Good ...  I am not big on camera usage, personally. I wa...  https://m.media-amazon.com/images/I/413sCRKobN...  https://www.amazon.in/Wayona-Braided-WN3LG1-Sy...\n",
      "freq             3                                                  5                                                233               53          120                  56    244            9                                                  6                                                 10                                                 10                                                 10                                                 10                                                  8                                                  3                                                  1\n"
     ]
    }
   ],
   "source": [
    "print(df.describe(include='all'))\n",
    "pd.set_option('display.width', 5000)"
   ]
  },
  {
   "cell_type": "code",
   "execution_count": 301,
   "metadata": {},
   "outputs": [
    {
     "name": "stdout",
     "output_type": "stream",
     "text": [
      "<class 'pandas.core.frame.DataFrame'>\n",
      "RangeIndex: 1465 entries, 0 to 1464\n",
      "Data columns (total 16 columns):\n",
      " #   Column               Non-Null Count  Dtype \n",
      "---  ------               --------------  ----- \n",
      " 0   product_id           1465 non-null   object\n",
      " 1   product_name         1465 non-null   object\n",
      " 2   category             1465 non-null   object\n",
      " 3   discounted_price     1465 non-null   object\n",
      " 4   actual_price         1465 non-null   object\n",
      " 5   discount_percentage  1465 non-null   object\n",
      " 6   rating               1465 non-null   object\n",
      " 7   rating_count         1463 non-null   object\n",
      " 8   about_product        1465 non-null   object\n",
      " 9   user_id              1465 non-null   object\n",
      " 10  user_name            1465 non-null   object\n",
      " 11  review_id            1465 non-null   object\n",
      " 12  review_title         1465 non-null   object\n",
      " 13  review_content       1465 non-null   object\n",
      " 14  img_link             1465 non-null   object\n",
      " 15  product_link         1465 non-null   object\n",
      "dtypes: object(16)\n",
      "memory usage: 183.3+ KB\n"
     ]
    }
   ],
   "source": [
    "df.info()"
   ]
  },
  {
   "cell_type": "markdown",
   "metadata": {},
   "source": [
    "Lorsqu'on a afficher les données on a constaté il y a des données qui sont considéres tel que des object alors qu'ils sont de type numérique par exemple les prix et il y a des valeur null. Alors on va dans l'etape suivante les traiter afin d'avoir une dataset cohérente"
   ]
  },
  {
   "cell_type": "markdown",
   "metadata": {},
   "source": [
    "2) Nettoyage des Données"
   ]
  },
  {
   "cell_type": "code",
   "execution_count": 303,
   "metadata": {},
   "outputs": [
    {
     "name": "stdout",
     "output_type": "stream",
     "text": [
      "product_id             0\n",
      "product_name           0\n",
      "category               0\n",
      "discounted_price       0\n",
      "actual_price           0\n",
      "discount_percentage    0\n",
      "rating                 0\n",
      "rating_count           2\n",
      "about_product          0\n",
      "user_id                0\n",
      "user_name              0\n",
      "review_id              0\n",
      "review_title           0\n",
      "review_content         0\n",
      "img_link               0\n",
      "product_link           0\n",
      "dtype: int64\n"
     ]
    }
   ],
   "source": [
    "print(df.isnull().sum())\n"
   ]
  },
  {
   "cell_type": "code",
   "execution_count": 304,
   "metadata": {},
   "outputs": [
    {
     "data": {
      "text/html": [
       "<div>\n",
       "<style scoped>\n",
       "    .dataframe tbody tr th:only-of-type {\n",
       "        vertical-align: middle;\n",
       "    }\n",
       "\n",
       "    .dataframe tbody tr th {\n",
       "        vertical-align: top;\n",
       "    }\n",
       "\n",
       "    .dataframe thead th {\n",
       "        text-align: right;\n",
       "    }\n",
       "</style>\n",
       "<table border=\"1\" class=\"dataframe\">\n",
       "  <thead>\n",
       "    <tr style=\"text-align: right;\">\n",
       "      <th></th>\n",
       "      <th>product_id</th>\n",
       "      <th>product_name</th>\n",
       "      <th>category</th>\n",
       "      <th>discounted_price</th>\n",
       "      <th>actual_price</th>\n",
       "      <th>discount_percentage</th>\n",
       "      <th>rating</th>\n",
       "      <th>rating_count</th>\n",
       "      <th>about_product</th>\n",
       "      <th>user_id</th>\n",
       "      <th>user_name</th>\n",
       "      <th>review_id</th>\n",
       "      <th>review_title</th>\n",
       "      <th>review_content</th>\n",
       "      <th>img_link</th>\n",
       "      <th>product_link</th>\n",
       "    </tr>\n",
       "  </thead>\n",
       "  <tbody>\n",
       "    <tr>\n",
       "      <th>0</th>\n",
       "      <td>B07JW9H4J1</td>\n",
       "      <td>Wayona Nylon Braided USB to Lightning Fast Cha...</td>\n",
       "      <td>Computers&amp;Accessories|Accessories&amp;Peripherals|...</td>\n",
       "      <td>399</td>\n",
       "      <td>1099</td>\n",
       "      <td>64</td>\n",
       "      <td>4.2</td>\n",
       "      <td>24269</td>\n",
       "      <td>High Compatibility : Compatible With iPhone 12...</td>\n",
       "      <td>AG3D6O4STAQKAY2UVGEUV46KN35Q,AHMY5CWJMMK5BJRBB...</td>\n",
       "      <td>Manav,Adarsh gupta,Sundeep,S.Sayeed Ahmed,jasp...</td>\n",
       "      <td>R3HXWT0LRP0NMF,R2AJM3LFTLZHFO,R6AQJGUP6P86,R1K...</td>\n",
       "      <td>Satisfied,Charging is really fast,Value for mo...</td>\n",
       "      <td>Looks durable Charging is fine tooNo complains...</td>\n",
       "      <td>https://m.media-amazon.com/images/W/WEBP_40237...</td>\n",
       "      <td>https://www.amazon.in/Wayona-Braided-WN3LG1-Sy...</td>\n",
       "    </tr>\n",
       "    <tr>\n",
       "      <th>1</th>\n",
       "      <td>B098NS6PVG</td>\n",
       "      <td>Ambrane Unbreakable 60W / 3A Fast Charging 1.5...</td>\n",
       "      <td>Computers&amp;Accessories|Accessories&amp;Peripherals|...</td>\n",
       "      <td>199</td>\n",
       "      <td>349</td>\n",
       "      <td>43</td>\n",
       "      <td>4.0</td>\n",
       "      <td>43994</td>\n",
       "      <td>Compatible with all Type C enabled devices, be...</td>\n",
       "      <td>AECPFYFQVRUWC3KGNLJIOREFP5LQ,AGYYVPDD7YG7FYNBX...</td>\n",
       "      <td>ArdKn,Nirbhay kumar,Sagar Viswanathan,Asp,Plac...</td>\n",
       "      <td>RGIQEG07R9HS2,R1SMWZQ86XIN8U,R2J3Y1WL29GWDE,RY...</td>\n",
       "      <td>A Good Braided Cable for Your Type C Device,Go...</td>\n",
       "      <td>I ordered this cable to connect my phone to An...</td>\n",
       "      <td>https://m.media-amazon.com/images/W/WEBP_40237...</td>\n",
       "      <td>https://www.amazon.in/Ambrane-Unbreakable-Char...</td>\n",
       "    </tr>\n",
       "    <tr>\n",
       "      <th>2</th>\n",
       "      <td>B096MSW6CT</td>\n",
       "      <td>Sounce Fast Phone Charging Cable &amp; Data Sync U...</td>\n",
       "      <td>Computers&amp;Accessories|Accessories&amp;Peripherals|...</td>\n",
       "      <td>199</td>\n",
       "      <td>1899</td>\n",
       "      <td>90</td>\n",
       "      <td>3.9</td>\n",
       "      <td>7928</td>\n",
       "      <td>【 Fast Charger&amp; Data Sync】-With built-in safet...</td>\n",
       "      <td>AGU3BBQ2V2DDAMOAKGFAWDDQ6QHA,AESFLDV2PT363T2AQ...</td>\n",
       "      <td>Kunal,Himanshu,viswanath,sai niharka,saqib mal...</td>\n",
       "      <td>R3J3EQQ9TZI5ZJ,R3E7WBGK7ID0KV,RWU79XKQ6I1QF,R2...</td>\n",
       "      <td>Good speed for earlier versions,Good Product,W...</td>\n",
       "      <td>Not quite durable and sturdy,https://m.media-a...</td>\n",
       "      <td>https://m.media-amazon.com/images/W/WEBP_40237...</td>\n",
       "      <td>https://www.amazon.in/Sounce-iPhone-Charging-C...</td>\n",
       "    </tr>\n",
       "    <tr>\n",
       "      <th>3</th>\n",
       "      <td>B08HDJ86NZ</td>\n",
       "      <td>boAt Deuce USB 300 2 in 1 Type-C &amp; Micro USB S...</td>\n",
       "      <td>Computers&amp;Accessories|Accessories&amp;Peripherals|...</td>\n",
       "      <td>329</td>\n",
       "      <td>699</td>\n",
       "      <td>53</td>\n",
       "      <td>4.2</td>\n",
       "      <td>94363</td>\n",
       "      <td>The boAt Deuce USB 300 2 in 1 cable is compati...</td>\n",
       "      <td>AEWAZDZZJLQUYVOVGBEUKSLXHQ5A,AG5HTSFRRE6NL3M5S...</td>\n",
       "      <td>Omkar dhale,JD,HEMALATHA,Ajwadh a.,amar singh ...</td>\n",
       "      <td>R3EEUZKKK9J36I,R3HJVYCLYOY554,REDECAZ7AMPQC,R1...</td>\n",
       "      <td>Good product,Good one,Nice,Really nice product...</td>\n",
       "      <td>Good product,long wire,Charges good,Nice,I bou...</td>\n",
       "      <td>https://m.media-amazon.com/images/I/41V5FtEWPk...</td>\n",
       "      <td>https://www.amazon.in/Deuce-300-Resistant-Tang...</td>\n",
       "    </tr>\n",
       "    <tr>\n",
       "      <th>4</th>\n",
       "      <td>B08CF3B7N1</td>\n",
       "      <td>Portronics Konnect L 1.2M Fast Charging 3A 8 P...</td>\n",
       "      <td>Computers&amp;Accessories|Accessories&amp;Peripherals|...</td>\n",
       "      <td>154</td>\n",
       "      <td>399</td>\n",
       "      <td>61</td>\n",
       "      <td>4.2</td>\n",
       "      <td>16905</td>\n",
       "      <td>[CHARGE &amp; SYNC FUNCTION]- This cable comes wit...</td>\n",
       "      <td>AE3Q6KSUK5P75D5HFYHCRAOLODSA,AFUGIFH5ZAFXRDSZH...</td>\n",
       "      <td>rahuls6099,Swasat Borah,Ajay Wadke,Pranali,RVK...</td>\n",
       "      <td>R1BP4L2HH9TFUP,R16PVJEXKV6QZS,R2UPDB81N66T4P,R...</td>\n",
       "      <td>As good as original,Decent,Good one for second...</td>\n",
       "      <td>Bought this instead of original apple, does th...</td>\n",
       "      <td>https://m.media-amazon.com/images/W/WEBP_40237...</td>\n",
       "      <td>https://www.amazon.in/Portronics-Konnect-POR-1...</td>\n",
       "    </tr>\n",
       "  </tbody>\n",
       "</table>\n",
       "</div>"
      ],
      "text/plain": [
       "   product_id                                       product_name                                           category discounted_price actual_price discount_percentage rating rating_count                                      about_product                                            user_id                                          user_name                                          review_id                                       review_title                                     review_content                                           img_link                                       product_link\n",
       "0  B07JW9H4J1  Wayona Nylon Braided USB to Lightning Fast Cha...  Computers&Accessories|Accessories&Peripherals|...              399         1099                  64    4.2        24269  High Compatibility : Compatible With iPhone 12...  AG3D6O4STAQKAY2UVGEUV46KN35Q,AHMY5CWJMMK5BJRBB...  Manav,Adarsh gupta,Sundeep,S.Sayeed Ahmed,jasp...  R3HXWT0LRP0NMF,R2AJM3LFTLZHFO,R6AQJGUP6P86,R1K...  Satisfied,Charging is really fast,Value for mo...  Looks durable Charging is fine tooNo complains...  https://m.media-amazon.com/images/W/WEBP_40237...  https://www.amazon.in/Wayona-Braided-WN3LG1-Sy...\n",
       "1  B098NS6PVG  Ambrane Unbreakable 60W / 3A Fast Charging 1.5...  Computers&Accessories|Accessories&Peripherals|...              199          349                  43    4.0        43994  Compatible with all Type C enabled devices, be...  AECPFYFQVRUWC3KGNLJIOREFP5LQ,AGYYVPDD7YG7FYNBX...  ArdKn,Nirbhay kumar,Sagar Viswanathan,Asp,Plac...  RGIQEG07R9HS2,R1SMWZQ86XIN8U,R2J3Y1WL29GWDE,RY...  A Good Braided Cable for Your Type C Device,Go...  I ordered this cable to connect my phone to An...  https://m.media-amazon.com/images/W/WEBP_40237...  https://www.amazon.in/Ambrane-Unbreakable-Char...\n",
       "2  B096MSW6CT  Sounce Fast Phone Charging Cable & Data Sync U...  Computers&Accessories|Accessories&Peripherals|...              199         1899                  90    3.9         7928  【 Fast Charger& Data Sync】-With built-in safet...  AGU3BBQ2V2DDAMOAKGFAWDDQ6QHA,AESFLDV2PT363T2AQ...  Kunal,Himanshu,viswanath,sai niharka,saqib mal...  R3J3EQQ9TZI5ZJ,R3E7WBGK7ID0KV,RWU79XKQ6I1QF,R2...  Good speed for earlier versions,Good Product,W...  Not quite durable and sturdy,https://m.media-a...  https://m.media-amazon.com/images/W/WEBP_40237...  https://www.amazon.in/Sounce-iPhone-Charging-C...\n",
       "3  B08HDJ86NZ  boAt Deuce USB 300 2 in 1 Type-C & Micro USB S...  Computers&Accessories|Accessories&Peripherals|...              329          699                  53    4.2        94363  The boAt Deuce USB 300 2 in 1 cable is compati...  AEWAZDZZJLQUYVOVGBEUKSLXHQ5A,AG5HTSFRRE6NL3M5S...  Omkar dhale,JD,HEMALATHA,Ajwadh a.,amar singh ...  R3EEUZKKK9J36I,R3HJVYCLYOY554,REDECAZ7AMPQC,R1...  Good product,Good one,Nice,Really nice product...  Good product,long wire,Charges good,Nice,I bou...  https://m.media-amazon.com/images/I/41V5FtEWPk...  https://www.amazon.in/Deuce-300-Resistant-Tang...\n",
       "4  B08CF3B7N1  Portronics Konnect L 1.2M Fast Charging 3A 8 P...  Computers&Accessories|Accessories&Peripherals|...              154          399                  61    4.2        16905  [CHARGE & SYNC FUNCTION]- This cable comes wit...  AE3Q6KSUK5P75D5HFYHCRAOLODSA,AFUGIFH5ZAFXRDSZH...  rahuls6099,Swasat Borah,Ajay Wadke,Pranali,RVK...  R1BP4L2HH9TFUP,R16PVJEXKV6QZS,R2UPDB81N66T4P,R...  As good as original,Decent,Good one for second...  Bought this instead of original apple, does th...  https://m.media-amazon.com/images/W/WEBP_40237...  https://www.amazon.in/Portronics-Konnect-POR-1..."
      ]
     },
     "execution_count": 304,
     "metadata": {},
     "output_type": "execute_result"
    }
   ],
   "source": [
    "df['actual_price'] = df['actual_price'].str.replace('₹', '').str.replace(',', '')\n",
    "df['discounted_price'] = df['discounted_price'].str.replace('₹', '').str.replace(',', '')\n",
    "df['rating_count'] = df['rating_count'].str.replace(',', '')\n",
    "df['rating'] = df['rating'].str.replace('|', '')\n",
    "df['discount_percentage'] = df['discount_percentage'].str.replace('%', '')\n",
    "df.head()\n",
    "\n"
   ]
  },
  {
   "cell_type": "code",
   "execution_count": 306,
   "metadata": {},
   "outputs": [
    {
     "name": "stdout",
     "output_type": "stream",
     "text": [
      "<class 'pandas.core.frame.DataFrame'>\n",
      "RangeIndex: 1465 entries, 0 to 1464\n",
      "Data columns (total 16 columns):\n",
      " #   Column               Non-Null Count  Dtype  \n",
      "---  ------               --------------  -----  \n",
      " 0   product_id           1465 non-null   object \n",
      " 1   product_name         1465 non-null   object \n",
      " 2   category             1465 non-null   object \n",
      " 3   discounted_price     1465 non-null   float64\n",
      " 4   actual_price         1465 non-null   float64\n",
      " 5   discount_percentage  1465 non-null   int64  \n",
      " 6   rating               1464 non-null   float64\n",
      " 7   rating_count         1463 non-null   float64\n",
      " 8   about_product        1465 non-null   object \n",
      " 9   user_id              1465 non-null   object \n",
      " 10  user_name            1465 non-null   object \n",
      " 11  review_id            1465 non-null   object \n",
      " 12  review_title         1465 non-null   object \n",
      " 13  review_content       1465 non-null   object \n",
      " 14  img_link             1465 non-null   object \n",
      " 15  product_link         1465 non-null   object \n",
      "dtypes: float64(4), int64(1), object(11)\n",
      "memory usage: 183.3+ KB\n"
     ]
    }
   ],
   "source": [
    "df['discounted_price'] =pd.to_numeric(df['discounted_price'])\n",
    "df['actual_price'] =pd.to_numeric(df['actual_price'])\n",
    "df['rating_count'] =pd.to_numeric(df['rating_count'])\n",
    "df['rating'] =pd.to_numeric(df['rating'])\n",
    "df['discount_percentage'] =pd.to_numeric(df['discount_percentage'])\n",
    "df.info()\n"
   ]
  },
  {
   "cell_type": "markdown",
   "metadata": {},
   "source": [
    "On a seulement 2 valeurs manquantes dans la colonne rating_count"
   ]
  },
  {
   "cell_type": "code",
   "execution_count": 307,
   "metadata": {},
   "outputs": [
    {
     "name": "stdout",
     "output_type": "stream",
     "text": [
      "5.673784182331723\n"
     ]
    }
   ],
   "source": [
    "print(df['rating_count'].skew())"
   ]
  },
  {
   "cell_type": "markdown",
   "metadata": {},
   "source": [
    "Dans la colonne rating_count on a remarqué qu'il il ya une skewness positive alors on va remplacer les valeurs manquantes par la mediane vu qu'elle est souvent un bon indicateur central puisqu'elle n'est pas influencée par les valeurs extrêmes dans la queue à gauche"
   ]
  },
  {
   "cell_type": "code",
   "execution_count": 308,
   "metadata": {},
   "outputs": [
    {
     "name": "stdout",
     "output_type": "stream",
     "text": [
      "5.677777608054587\n",
      "product_id             0\n",
      "product_name           0\n",
      "category               0\n",
      "discounted_price       0\n",
      "actual_price           0\n",
      "discount_percentage    0\n",
      "rating                 1\n",
      "rating_count           0\n",
      "about_product          0\n",
      "user_id                0\n",
      "user_name              0\n",
      "review_id              0\n",
      "review_title           0\n",
      "review_content         0\n",
      "img_link               0\n",
      "product_link           0\n",
      "dtype: int64\n"
     ]
    }
   ],
   "source": [
    "median_value = df['rating_count'].median()\n",
    "df['rating_count'] = df['rating_count'].fillna(median_value)\n",
    "print(df['rating_count'].skew())\n",
    "print(df.isnull().sum())\n"
   ]
  },
  {
   "cell_type": "markdown",
   "metadata": {},
   "source": [
    "Maintenant on va traiter  la valeur manquante de la colonne rating.\n",
    "vu que on a seulement une seule valeur manquante qui  ne représente pas une proportion significativ et elle ne va pas affecter la représentativité de l'echantillon on va la supprimer :"
   ]
  },
  {
   "cell_type": "code",
   "execution_count": 309,
   "metadata": {},
   "outputs": [
    {
     "name": "stdout",
     "output_type": "stream",
     "text": [
      "product_id             0\n",
      "product_name           0\n",
      "category               0\n",
      "discounted_price       0\n",
      "actual_price           0\n",
      "discount_percentage    0\n",
      "rating                 0\n",
      "rating_count           0\n",
      "about_product          0\n",
      "user_id                0\n",
      "user_name              0\n",
      "review_id              0\n",
      "review_title           0\n",
      "review_content         0\n",
      "img_link               0\n",
      "product_link           0\n",
      "dtype: int64\n",
      "-1.2428954369559149\n"
     ]
    }
   ],
   "source": [
    "df_clean = df.dropna(subset=['rating'])\n",
    "df = df.dropna(subset=['rating'])\n",
    "print(df.isnull().sum())\n",
    "print(df['rating'].skew())"
   ]
  },
  {
   "cell_type": "code",
   "execution_count": 310,
   "metadata": {},
   "outputs": [],
   "source": [
    "df = df.drop_duplicates()"
   ]
  },
  {
   "cell_type": "markdown",
   "metadata": {},
   "source": [
    "Maintenant on une Dataset clean sans valeur null et sans duplicats prete a etre analysé"
   ]
  },
  {
   "cell_type": "markdown",
   "metadata": {},
   "source": [
    "3) Analyse Exploratoire des Données (EDA)"
   ]
  },
  {
   "cell_type": "markdown",
   "metadata": {},
   "source": [
    "Statistiques descriptives "
   ]
  },
  {
   "cell_type": "code",
   "execution_count": 311,
   "metadata": {},
   "outputs": [
    {
     "name": "stdout",
     "output_type": "stream",
     "text": [
      "       discounted_price   actual_price  discount_percentage       rating   rating_count\n",
      "count       1464.000000    1464.000000          1464.000000  1464.000000    1464.000000\n",
      "mean        3126.011906    5447.002923            47.713115     4.096585   18289.441940\n",
      "std         6946.625442   10878.270001            21.627422     0.291674   42739.607548\n",
      "min           39.000000      39.000000             0.000000     2.000000       2.000000\n",
      "25%          323.750000     800.000000            32.000000     4.000000    1192.500000\n",
      "50%          799.000000    1650.000000            50.000000     4.100000    5179.000000\n",
      "75%         1999.000000    4303.750000            63.000000     4.300000   17330.750000\n",
      "max        77990.000000  139900.000000            94.000000     5.000000  426973.000000\n"
     ]
    }
   ],
   "source": [
    "print(df.describe())"
   ]
  },
  {
   "cell_type": "markdown",
   "metadata": {},
   "source": [
    "Selon ces statistiques on constate que :\n",
    "1) Discounted_price : \n",
    "- Mean : En moyenne, les produits sont vendus à un prix remisé d'environ 3126 ₹.\n",
    " - Std :  Il y a une grande variation dans les prix remisés, ce qui signifie que certains produits sont vendus à des prix beaucoup plus élevés que d'autres.\n",
    " - Min : Le prix le plus bas après remise est de 39₹\n",
    " - Max : Le prix le plus élevé après remise est de 77,990 ₹ ce qui montre la grande disparité des prix des produits.\n",
    " - 25% des produits ont un prix remisé inférieur à 323.75₹\n",
    "  - 50% des produits ont un prix remisé inférieur à 799₹\n",
    " - 75% des produits ont un prix remisé inférieur à 1999₹\n",
    " - Cette information va nous servir à comprendre la gamme de prix des produits et à identifier les produits premium (ceux au-dessus du 75e percentile) ou les produits économiques (ceux en dessous du 25e percentile)."
   ]
  },
  {
   "cell_type": "markdown",
   "metadata": {},
   "source": [
    "2) Actual_price : "
   ]
  },
  {
   "cell_type": "markdown",
   "metadata": {},
   "source": [
    "- Mean : En moyenne, le prix original des produits est d'environ 5447₹.\n",
    "- Std : Comme pour les prix remisés, il y a une grande variation dans les prix d'origine.\n",
    "- Min : Le prix original le plus bas est de 39₹.\n",
    "- Max : Le prix original le plus élevé est de 139,900₹ indiquant des produits très haut de gamme.\n",
    "- 25% des produits ont un prix original inférieur à 800₹.\n",
    "- 50% des produits ont un prix original inférieur à 1650₹.\n",
    "- 75% des produits ont un prix original inférieur à 4303.75₹.\n",
    "- Ces informations nous permettent de comprendre la politique de prix avant réduction et de comparer l'écart entre le prix original et le prix remisé pour différentes gammes de produits."
   ]
  },
  {
   "cell_type": "markdown",
   "metadata": {},
   "source": [
    "3) Discount_percentage"
   ]
  },
  {
   "cell_type": "markdown",
   "metadata": {},
   "source": [
    "- Mean : En moyenne, les produits sont réduits de 47.71%.\n",
    "- Std : 21.63% La variation des pourcentages de réduction est assez large.\n",
    "- Min: 0% Certains produits n'ont aucune réduction.\n",
    "- Max : Le pourcentage de réduction maximum est de 94%, ce qui est très élevé.\n",
    "- 25% des produits ont une réduction de 32% ou moins.\n",
    "- 50% des produits ont une réduction de 50%.\n",
    "- 75% des produits ont une réduction de 63% ou moins.\n",
    "- Cette information peut nous aider pour analyser l'efficacité des réductions et identifier les produits avec les plus grandes réductions, qui pourraient être des moteurs de vente."
   ]
  },
  {
   "cell_type": "markdown",
   "metadata": {},
   "source": [
    "4) Rating"
   ]
  },
  {
   "cell_type": "markdown",
   "metadata": {},
   "source": [
    "- Mean : En moyenne, les produits sont bien notés, avec une note autour de 4.1.\n",
    "- Std : Les notes sont relativement cohérentes, avec peu de dispersion.\n",
    "- Min : La note la plus basse est de 2.\n",
    "- Max : La note la plus élevée est de 5, ce qui est la note maximale.\n",
    "- 25% des produits ont une note inférieure à 4.\n",
    "- 50% des produits ont une note de 4.1.\n",
    "- 75% des produits ont une note de 4.3 ou moins.\n",
    "- Ces statistiques montrent que la plupart des produits sont bien perçus par les utilisateurs. on peut identifier les produits mal notés pour une évaluation plus approfondie et potentiellement améliorer ces produits."
   ]
  },
  {
   "cell_type": "markdown",
   "metadata": {},
   "source": [
    "5) Rating_count"
   ]
  },
  {
   "cell_type": "markdown",
   "metadata": {},
   "source": [
    "- Mean : En moyenne, les produits ont reçu environ 18,289 évaluations, ce qui est un nombre assez élevé.\n",
    "- Std :  Il y a une très grande variation dans le nombre de notes, ce qui signifie que certains produits ont beaucoup plus de notes que d'autres.\n",
    "- Min: Le nombre minimal de notes est de 2, ce qui peut indiquer un nouveau produit ou un produit peu populaire.\n",
    "- Max : Le nombre maximal de notes est de 426,973, ce qui suggère un produit extrêmement populaire.\n",
    "- 25% des produits ont reçu 1192.5 notes ou moins.\n",
    "- 50% des produits ont reçu 5179 notes.\n",
    "- 75% des produits ont reçu 17330.75 notes ou moins.\n",
    "- Le nombre de notes peut être un indicateur de popularité. Les produits avec un grand nombre de notes sont probablement bien établis et populaires. Les efforts marketing pourraient se concentrer sur les produits avec moins de notes pour augmenter leur visibilité."
   ]
  },
  {
   "cell_type": "markdown",
   "metadata": {},
   "source": [
    "<h2>Conclusion</h2>"
   ]
  },
  {
   "cell_type": "markdown",
   "metadata": {},
   "source": [
    "Ces analyses peuvent nous aider à orienter nos décisions stratégiques en matière de tarification, de marketing, et d'amélioration de produit."
   ]
  },
  {
   "cell_type": "markdown",
   "metadata": {},
   "source": [
    "Visualisations"
   ]
  },
  {
   "cell_type": "markdown",
   "metadata": {},
   "source": [
    "On va utiliser divers types de diagrammes pour illustrer les caractéristiques et les relations entre les variables. Voici quelques  visualisations pertinentes avec des explications :"
   ]
  },
  {
   "cell_type": "markdown",
   "metadata": {},
   "source": [
    "1) Histogrammes pour discounted_price, actual_price, rating, et rating_count : Les histogrammes permettent de visualiser la distribution des données pour chaque variable. Vous pouvez observer comment les prix, les notes, et le nombre de notes sont répartis."
   ]
  }
 ],
 "metadata": {
  "kernelspec": {
   "display_name": "Python 3",
   "language": "python",
   "name": "python3"
  },
  "language_info": {
   "codemirror_mode": {
    "name": "ipython",
    "version": 3
   },
   "file_extension": ".py",
   "mimetype": "text/x-python",
   "name": "python",
   "nbconvert_exporter": "python",
   "pygments_lexer": "ipython3",
   "version": "3.12.0"
  }
 },
 "nbformat": 4,
 "nbformat_minor": 2
}
